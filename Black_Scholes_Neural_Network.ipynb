{
  "cells": [
    {
      "cell_type": "markdown",
      "metadata": {
        "id": "view-in-github",
        "colab_type": "text"
      },
      "source": [
        "<a href=\"https://colab.research.google.com/github/UdayVT/Black-Scholes-Neural-Network/blob/main/Black_Scholes_Neural_Network.ipynb\" target=\"_parent\"><img src=\"https://colab.research.google.com/assets/colab-badge.svg\" alt=\"Open In Colab\"/></a>"
      ]
    },
    {
      "cell_type": "code",
      "execution_count": 1,
      "metadata": {
        "id": "hQ_sbTZBFG2F"
      },
      "outputs": [],
      "source": [
        "# Dependencies\n",
        "import numpy as np\n",
        "import matplotlib.pyplot as plt\n",
        "import pandas as pd\n",
        "import math\n",
        "\n",
        "import scipy.stats as ss\n",
        "import matplotlib.pyplot as plt\n",
        "%matplotlib inline\n",
        "\n",
        "import numpy as np\n",
        "from scipy.stats import norm\n",
        "\n",
        "import keras\n",
        "import tensorflow\n",
        "from keras.models import Sequential\n",
        "from keras.layers import Activation, Dense, Flatten, LeakyReLU, Dropout\n",
        "from keras import backend\n",
        "from keras.callbacks import EarlyStopping, ModelCheckpoint\n",
        "from sklearn.model_selection import train_test_split\n",
        "from keras.utils import get_custom_objects\n",
        "from keras import backend as K\n",
        "from keras.activations import elu\n",
        "import tensorflow as tf"
      ]
    },
    {
      "cell_type": "code",
      "execution_count": 2,
      "metadata": {
        "id": "TYOLiQ4_Gj-c"
      },
      "outputs": [],
      "source": [
        "N = norm.cdf\n",
        "def BS_CALL(S, K, T, r, q , sigma):\n",
        "    d1 = (np.log(S/K) + (r + sigma**2/2)*T) / (sigma*np.sqrt(T))\n",
        "    d2 = d1 - sigma * np.sqrt(T)\n",
        "    return S*(math.exp(-q*T))* N(d1) - K * np.exp(-r*T)* N(d2)"
      ]
    },
    {
      "cell_type": "code",
      "execution_count": 3,
      "metadata": {
        "id": "4Cf3I-wfFNuS"
      },
      "outputs": [],
      "source": [
        "price = np.random.uniform(10, 20, 300000)\n",
        "strike = np.random.uniform(10, 20, 300000)\n",
        "time = np.random.uniform(0.1, 3, 300000)\n",
        "intrest = np.random.uniform(0.01, 0.03, 300000)\n",
        "divident = np.random.uniform(0, 0.03, 300000)\n",
        "volatility = np.random.uniform(0.05, 0.3, 300000)\n",
        "call = np.zeros(300000)"
      ]
    },
    {
      "cell_type": "code",
      "execution_count": 4,
      "metadata": {
        "id": "X1mJczszHDlP"
      },
      "outputs": [],
      "source": [
        "for i in range(0,300000):\n",
        "  call[i] = BS_CALL(price[i],strike[i],time[i],intrest[i],divident[i],volatility[i])"
      ]
    },
    {
      "cell_type": "code",
      "execution_count": 5,
      "metadata": {
        "id": "cqpnGxhyI1Zn"
      },
      "outputs": [],
      "source": [
        "df = pd.DataFrame()"
      ]
    },
    {
      "cell_type": "code",
      "execution_count": 6,
      "metadata": {
        "id": "PGSikoKQK5T9"
      },
      "outputs": [],
      "source": [
        "df['Stock'] = price.tolist()\n",
        "df['Strike'] = strike.tolist()\n",
        "df['Time'] = time.tolist()\n",
        "df['Intrest'] = intrest.tolist()\n",
        "df['Divident'] = divident.tolist()\n",
        "df['Volatility'] = volatility.tolist()\n",
        "df['Call'] = call.tolist()"
      ]
    },
    {
      "cell_type": "code",
      "execution_count": 7,
      "metadata": {
        "id": "m4U1fQAwMzdT"
      },
      "outputs": [],
      "source": [
        "df_filtered = df[df['Call'] <= 10]\n",
        "df_filtered = df_filtered[df_filtered['Call'] >= 0.001]"
      ]
    },
    {
      "cell_type": "code",
      "execution_count": 8,
      "metadata": {
        "id": "_rP8IP2ePLfh"
      },
      "outputs": [],
      "source": [
        "df_filtered['Stock'] = df_filtered['Stock'].div(df_filtered.Strike)\n",
        "df_filtered['Call'] = df_filtered['Call'].div(df_filtered.Strike)\n",
        "MinCall = df_filtered.loc[df_filtered[\"Call\"].idxmin()].Call\n",
        "df_filtered['Strike'] = 1\n",
        "Strike = df_filtered.Strike.values\n",
        "df_filtered = df_filtered.drop('Strike', axis=1)"
      ]
    },
    {
      "cell_type": "code",
      "execution_count": 9,
      "metadata": {
        "id": "egcjHZzm8YXk"
      },
      "outputs": [],
      "source": [
        "df_filtered['Call'] = df_filtered['Call'] - 0.5"
      ]
    },
    {
      "cell_type": "code",
      "execution_count": 10,
      "metadata": {
        "id": "rWoMQsC6RuRv"
      },
      "outputs": [],
      "source": [
        "prices = df_filtered.values"
      ]
    },
    {
      "cell_type": "code",
      "execution_count": 11,
      "metadata": {
        "id": "XGmfFTngRzvl"
      },
      "outputs": [],
      "source": [
        "X = prices[:,:5]\n",
        "y = prices[:,5:6]\n",
        "X_train, X_test, y_train, y_test = train_test_split(X, y, test_size=0.2, random_state=42)"
      ]
    },
    {
      "cell_type": "code",
      "execution_count": 12,
      "metadata": {
        "id": "mR_VFSLlzWSG"
      },
      "outputs": [],
      "source": [
        "def custom_activation(x):\n",
        "    return (K.softplus(x)-0.5)\n",
        "\n",
        "get_custom_objects().update({'custom_activation': Activation(custom_activation)})"
      ]
    },
    {
      "cell_type": "code",
      "execution_count": 13,
      "metadata": {
        "id": "Sqj6ZoDpGaiw"
      },
      "outputs": [],
      "source": [
        "def MELU(z):\n",
        "    cond = K.greater(z, 0)\n",
        "    return K.switch(cond, (((0.5*(K.elu(z)**2))+(0.02*K.elu(z)))/(z-0.04081633)),K.elu(z,0.49))\n",
        "\n",
        "get_custom_objects().update({'MELU': Activation(MELU)})"
      ]
    },
    {
      "cell_type": "code",
      "execution_count": 14,
      "metadata": {
        "id": "tmdInvDVcDjV"
      },
      "outputs": [],
      "source": [
        "#def MELU(x,alpha=0.49):\n",
        "#  cond = K.greater(x, 0)\n",
        "#  a = 1-(2*alpha)\n",
        "#  b = -2 + (1/alpha)\n",
        "#  return K.switch(cond,((0.5 * (x**2)+(a*x))/(x+b)),K.elu(x,alpha=0))\n",
        "\n",
        "#get_custom_objects().update({'MELU': Activation(MELU)})"
      ]
    },
    {
      "cell_type": "code",
      "source": [
        "#def melu(x, alpha=0.49):\n",
        "#    a = 1-(2*alpha)\n",
        "#    b = -2 + (1/alpha)\n",
        "#    return np.where(x >= 0.0,((0.5 * (x**2)+(a*x))/(x+b)), alpha * (np.exp(x) - 1.0))\n",
        "\n",
        "#class MELU(keras.layers.Layer):\n",
        "#    def __init__(self, alpha=0.49):\n",
        "#        super().__init__()\n",
        "#        self.alpha = alpha\n",
        "#\n",
        "#    def call(self, x):\n",
        "#        return melu(x, alpha=self.alpha)"
      ],
      "metadata": {
        "id": "paIbmLVqNkOy"
      },
      "execution_count": 15,
      "outputs": []
    },
    {
      "cell_type": "code",
      "execution_count": 16,
      "metadata": {
        "id": "73uSvWprSeQp"
      },
      "outputs": [],
      "source": [
        "from pandas.core.arrays.arrow.array import Any\n",
        "nodes = 128\n",
        "\n",
        "# Create Model\n",
        "model = Sequential()\n",
        "\n",
        "# Layer 1\n",
        "model.add(Dense(nodes, input_shape=(5,)))\n",
        "model.add(Activation(LeakyReLU(1.0)))\n",
        "\n",
        "# Layer 2\n",
        "model.add(Dense(nodes))\n",
        "model.add(Activation (elu))\n",
        "\n",
        "# Layer 3\n",
        "model.add(Dense(nodes))\n",
        "model.add(Activation (elu))\n",
        "\n",
        "# Layer 4 - Output Layer\n",
        "model.add(Dense(1))\n",
        "model.add(Activation(custom_activation))"
      ]
    },
    {
      "cell_type": "code",
      "execution_count": 17,
      "metadata": {
        "id": "_aamvM5iSr-z"
      },
      "outputs": [],
      "source": [
        "model.compile(loss='mse',\n",
        "        optimizer='rmsprop')"
      ]
    },
    {
      "cell_type": "code",
      "execution_count": 18,
      "metadata": {
        "id": "K34U_06sStSY",
        "colab": {
          "base_uri": "https://localhost:8080/"
        },
        "outputId": "0a026264-369b-41b4-fb8c-c5ef5db00277"
      },
      "outputs": [
        {
          "output_type": "stream",
          "name": "stdout",
          "text": [
            "Model: \"sequential\"\n",
            "_________________________________________________________________\n",
            " Layer (type)                Output Shape              Param #   \n",
            "=================================================================\n",
            " dense (Dense)               (None, 128)               768       \n",
            "                                                                 \n",
            " activation_2 (Activation)   (None, 128)               0         \n",
            "                                                                 \n",
            " dense_1 (Dense)             (None, 128)               16512     \n",
            "                                                                 \n",
            " activation_3 (Activation)   (None, 128)               0         \n",
            "                                                                 \n",
            " dense_2 (Dense)             (None, 128)               16512     \n",
            "                                                                 \n",
            " activation_4 (Activation)   (None, 128)               0         \n",
            "                                                                 \n",
            " dense_3 (Dense)             (None, 1)                 129       \n",
            "                                                                 \n",
            " activation_5 (Activation)   (None, 1)                 0         \n",
            "                                                                 \n",
            "=================================================================\n",
            "Total params: 33921 (132.50 KB)\n",
            "Trainable params: 33921 (132.50 KB)\n",
            "Non-trainable params: 0 (0.00 Byte)\n",
            "_________________________________________________________________\n"
          ]
        }
      ],
      "source": [
        "model.summary()"
      ]
    },
    {
      "cell_type": "code",
      "execution_count": null,
      "metadata": {
        "id": "KqOs4gf3Tawk",
        "colab": {
          "base_uri": "https://localhost:8080/"
        },
        "outputId": "a5b2869e-a79a-448d-c0cc-8e081faca1ff"
      },
      "outputs": [
        {
          "output_type": "stream",
          "name": "stdout",
          "text": [
            "Epoch 1/15\n",
            "3441/3441 [==============================] - 9s 2ms/step - loss: 0.0039\n",
            "Epoch 2/15\n",
            "3441/3441 [==============================] - 7s 2ms/step - loss: 6.6197e-04\n",
            "Epoch 3/15\n",
            "3441/3441 [==============================] - 8s 2ms/step - loss: 4.5285e-04\n",
            "Epoch 4/15\n",
            "3441/3441 [==============================] - 7s 2ms/step - loss: 3.5966e-04\n",
            "Epoch 5/15\n",
            "3441/3441 [==============================] - 8s 2ms/step - loss: 3.0187e-04\n",
            "Epoch 6/15\n",
            "3441/3441 [==============================] - 7s 2ms/step - loss: 2.5989e-04\n",
            "Epoch 7/15\n",
            "3441/3441 [==============================] - 10s 3ms/step - loss: 2.2772e-04\n",
            "Epoch 8/15\n",
            "3441/3441 [==============================] - 8s 2ms/step - loss: 2.0548e-04\n",
            "Epoch 9/15\n",
            "3441/3441 [==============================] - 7s 2ms/step - loss: 1.8869e-04\n",
            "Epoch 10/15\n",
            "3441/3441 [==============================] - 8s 2ms/step - loss: 1.7612e-04\n",
            "Epoch 11/15\n",
            "3441/3441 [==============================] - 7s 2ms/step - loss: 1.6384e-04\n",
            "Epoch 12/15\n",
            "3441/3441 [==============================] - 8s 2ms/step - loss: 1.5551e-04\n",
            "Epoch 13/15\n",
            "3441/3441 [==============================] - 8s 2ms/step - loss: 1.4820e-04\n",
            "Epoch 14/15\n",
            " 999/3441 [=======>......................] - ETA: 4s - loss: 1.4512e-04"
          ]
        }
      ],
      "source": [
        "model.fit(X_train, y_train, epochs = 15, batch_size = 64)"
      ]
    },
    {
      "cell_type": "code",
      "execution_count": null,
      "metadata": {
        "id": "K_7jx6WmTpNE"
      },
      "outputs": [],
      "source": [
        "predictions = model.predict(X_test)"
      ]
    },
    {
      "cell_type": "code",
      "execution_count": null,
      "metadata": {
        "id": "be48GWvSeO21"
      },
      "outputs": [],
      "source": [
        "predictions"
      ]
    },
    {
      "cell_type": "code",
      "execution_count": null,
      "metadata": {
        "id": "Rjp_mNDNTvYk"
      },
      "outputs": [],
      "source": [
        "#out sample(20)\n",
        "plt.figure(figsize = (5,10))\n",
        "plt.scatter((y_test+0.5)*10, (predictions+0.5)*10)\n",
        "plt.xlabel(\"Actual Price\")\n",
        "plt.ylabel(\"Predicted Price\")\n",
        "plt.plot([0,10], [0,10], 'r')\n",
        "plt.grid(True)"
      ]
    },
    {
      "cell_type": "code",
      "source": [
        "InSamplePredictions = model.predict(X_train)"
      ],
      "metadata": {
        "id": "kXw5g8pM0fq-"
      },
      "execution_count": null,
      "outputs": []
    },
    {
      "cell_type": "code",
      "source": [
        "#in sample (80)\n",
        "plt.figure(figsize = (5,10))\n",
        "plt.scatter((y_train+0.5)*10, (InSamplePredictions+0.5)*10)\n",
        "plt.xlabel(\"Actual Price\")\n",
        "plt.ylabel(\"Predicted Price\")\n",
        "plt.plot([0,10], [0,10], 'r')\n",
        "plt.grid(True)"
      ],
      "metadata": {
        "id": "tMWErt280qy-"
      },
      "execution_count": null,
      "outputs": []
    },
    {
      "cell_type": "markdown",
      "source": [],
      "metadata": {
        "id": "cHxL1fEm0flG"
      }
    }
  ],
  "metadata": {
    "colab": {
      "provenance": [],
      "toc_visible": true,
      "include_colab_link": true
    },
    "kernelspec": {
      "display_name": "Python 3",
      "name": "python3"
    },
    "language_info": {
      "name": "python"
    }
  },
  "nbformat": 4,
  "nbformat_minor": 0
}