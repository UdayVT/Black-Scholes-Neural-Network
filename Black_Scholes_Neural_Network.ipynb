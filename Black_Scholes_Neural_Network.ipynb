{
  "cells": [
    {
      "cell_type": "markdown",
      "metadata": {
        "id": "view-in-github",
        "colab_type": "text"
      },
      "source": [
        "<a href=\"https://colab.research.google.com/github/UdayVT/Black-Scholes-Neural-Network/blob/main/Black_Scholes_Neural_Network.ipynb\" target=\"_parent\"><img src=\"https://colab.research.google.com/assets/colab-badge.svg\" alt=\"Open In Colab\"/></a>"
      ]
    },
    {
      "cell_type": "code",
      "execution_count": null,
      "metadata": {
        "id": "hQ_sbTZBFG2F"
      },
      "outputs": [],
      "source": [
        "# Dependencies\n",
        "import numpy as np\n",
        "import matplotlib.pyplot as plt\n",
        "import pandas as pd\n",
        "import math\n",
        "\n",
        "import scipy.stats as ss\n",
        "import matplotlib.pyplot as plt\n",
        "%matplotlib inline\n",
        "\n",
        "import numpy as np\n",
        "from scipy.stats import norm\n",
        "\n",
        "import keras\n",
        "import tensorflow\n",
        "from keras.models import Sequential\n",
        "from keras.layers import Activation, Dense, Flatten, LeakyReLU, Dropout\n",
        "from keras import backend\n",
        "from keras.callbacks import EarlyStopping, ModelCheckpoint\n",
        "from sklearn.model_selection import train_test_split\n",
        "from keras.utils import get_custom_objects\n",
        "from keras import backend as K\n",
        "from keras.activations import elu, sigmoid\n",
        "import tensorflow as tf"
      ]
    },
    {
      "cell_type": "code",
      "execution_count": null,
      "metadata": {
        "id": "TYOLiQ4_Gj-c"
      },
      "outputs": [],
      "source": [
        "N = norm.cdf\n",
        "def BS_CALL(S, K, T, r, q , sigma):\n",
        "    d1 = (np.log(S/K) + (r + sigma**2/2)*T) / (sigma*np.sqrt(T))\n",
        "    d2 = d1 - sigma * np.sqrt(T)\n",
        "    return S*(math.exp(-q*T))* N(d1) - K * np.exp(-r*T)* N(d2)"
      ]
    },
    {
      "cell_type": "code",
      "execution_count": null,
      "metadata": {
        "id": "4Cf3I-wfFNuS"
      },
      "outputs": [],
      "source": [
        "price = np.random.uniform(10, 20, 300000)\n",
        "strike = np.random.uniform(10, 20, 300000)\n",
        "time = np.random.uniform(0.1, 3, 300000)\n",
        "intrest = np.random.uniform(0.01, 0.03, 300000)\n",
        "divident = np.random.uniform(0, 0.03, 300000)\n",
        "volatility = np.random.uniform(0.05, 0.3, 300000)\n",
        "call = np.zeros(300000)"
      ]
    },
    {
      "cell_type": "code",
      "execution_count": null,
      "metadata": {
        "id": "X1mJczszHDlP"
      },
      "outputs": [],
      "source": [
        "for i in range(0,300000):\n",
        "  call[i] = BS_CALL(price[i],strike[i],time[i],intrest[i],divident[i],volatility[i])"
      ]
    },
    {
      "cell_type": "code",
      "execution_count": null,
      "metadata": {
        "id": "cqpnGxhyI1Zn"
      },
      "outputs": [],
      "source": [
        "df = pd.DataFrame()"
      ]
    },
    {
      "cell_type": "code",
      "execution_count": null,
      "metadata": {
        "id": "PGSikoKQK5T9"
      },
      "outputs": [],
      "source": [
        "df['Stock'] = price.tolist()\n",
        "df['Strike'] = strike.tolist()\n",
        "df['Time'] = time.tolist()\n",
        "df['Intrest'] = intrest.tolist()\n",
        "df['Divident'] = divident.tolist()\n",
        "df['Volatility'] = volatility.tolist()\n",
        "df['Call'] = call.tolist()"
      ]
    },
    {
      "cell_type": "code",
      "execution_count": null,
      "metadata": {
        "id": "m4U1fQAwMzdT"
      },
      "outputs": [],
      "source": [
        "df_filtered = df[df['Call'] <= 10]\n",
        "df_filtered = df_filtered[df_filtered['Call'] >= 0.001]"
      ]
    },
    {
      "cell_type": "code",
      "execution_count": null,
      "metadata": {
        "id": "_rP8IP2ePLfh"
      },
      "outputs": [],
      "source": [
        "df_filtered['Stock'] = df_filtered['Stock'].div(df_filtered.Strike)\n",
        "df_filtered['Call'] = df_filtered['Call'].div(df_filtered.Strike)\n",
        "MinCall = df_filtered.loc[df_filtered[\"Call\"].idxmin()].Call\n",
        "df_filtered['Strike'] = 1\n",
        "Strike = df_filtered.Strike.values\n",
        "df_filtered = df_filtered.drop('Strike', axis=1)"
      ]
    },
    {
      "cell_type": "code",
      "execution_count": null,
      "metadata": {
        "id": "egcjHZzm8YXk"
      },
      "outputs": [],
      "source": [
        "df_filtered['Call'] = df_filtered['Call'] - 0.5"
      ]
    },
    {
      "cell_type": "code",
      "execution_count": null,
      "metadata": {
        "id": "rWoMQsC6RuRv"
      },
      "outputs": [],
      "source": [
        "prices = df_filtered.values"
      ]
    },
    {
      "cell_type": "code",
      "execution_count": null,
      "metadata": {
        "id": "XGmfFTngRzvl"
      },
      "outputs": [],
      "source": [
        "X = prices[:,:5]\n",
        "y = prices[:,5:6]\n",
        "X_train, X_test, y_train, y_test = train_test_split(X, y, test_size=0.2, random_state=42)"
      ]
    },
    {
      "cell_type": "code",
      "execution_count": null,
      "metadata": {
        "id": "mR_VFSLlzWSG"
      },
      "outputs": [],
      "source": [
        "def custom_activation(x):\n",
        "    return (K.softplus(x)-0.5)\n",
        "\n",
        "get_custom_objects().update({'custom_activation': Activation(custom_activation)})"
      ]
    },
    {
      "cell_type": "code",
      "execution_count": null,
      "metadata": {
        "id": "Sqj6ZoDpGaiw"
      },
      "outputs": [],
      "source": [
        "def MELU(z):\n",
        "  cond = K.greater(z, 0)\n",
        "  return K.switch(cond, (((0.5*(K.pow((z),2)))+(0.02*(z)))/((z)+0.040816326)),0.49*(K.exp(z)-1))\n",
        "\n",
        "get_custom_objects().update({'MELU': Activation(MELU)})"
      ]
    },
    {
      "cell_type": "code",
      "execution_count": null,
      "metadata": {
        "id": "73uSvWprSeQp"
      },
      "outputs": [],
      "source": [
        "from pandas.core.arrays.arrow.array import Any\n",
        "nodes = 128\n",
        "\n",
        "# Create Model\n",
        "model = Sequential()\n",
        "\n",
        "# Layer 1\n",
        "model.add(Dense(nodes , input_shape=(5,)))\n",
        "model.add(Activation(LeakyReLU(1.0)))\n",
        "\n",
        "# Layer 2\n",
        "model.add(Dense(nodes))\n",
        "model.add(Activation (MELU))\n",
        "\n",
        "# Layer 3\n",
        "model.add(Dense(nodes))\n",
        "model.add(Activation (MELU))\n",
        "\n",
        "# Layer 4 - Output Layer\n",
        "model.add(Dense(1))\n",
        "model.add(Activation(custom_activation))"
      ]
    },
    {
      "cell_type": "code",
      "execution_count": null,
      "metadata": {
        "id": "wwFso14Y-NHC"
      },
      "outputs": [],
      "source": [
        "def custom_loss(y_true, y_pred):\n",
        "  diff = ((y_true-y_pred)**2) #squared difference\n",
        "  loss = K.mean(diff, axis=-1) #mean over last dimension\n",
        "  loss = loss / 10.0\n",
        "  return loss"
      ]
    },
    {
      "cell_type": "code",
      "execution_count": null,
      "metadata": {
        "colab": {
          "base_uri": "https://localhost:8080/"
        },
        "id": "_aamvM5iSr-z",
        "outputId": "92e8b771-0186-4841-f25e-906731e24217"
      },
      "outputs": [
        {
          "output_type": "stream",
          "name": "stderr",
          "text": [
            "WARNING:absl:`lr` is deprecated in Keras optimizer, please use `learning_rate` or use the legacy optimizer, e.g.,tf.keras.optimizers.legacy.RMSprop.\n"
          ]
        }
      ],
      "source": [
        "model.compile(loss=custom_loss,\n",
        "  optimizer=tf.keras.optimizers.RMSprop(lr=2e-5),)"
      ]
    },
    {
      "cell_type": "code",
      "execution_count": null,
      "metadata": {
        "colab": {
          "base_uri": "https://localhost:8080/"
        },
        "id": "K34U_06sStSY",
        "outputId": "f54cf792-9be0-4b35-aaaf-2245f90f8e9e"
      },
      "outputs": [
        {
          "output_type": "stream",
          "name": "stdout",
          "text": [
            "Model: \"sequential\"\n",
            "_________________________________________________________________\n",
            " Layer (type)                Output Shape              Param #   \n",
            "=================================================================\n",
            " dense (Dense)               (None, 128)               768       \n",
            "                                                                 \n",
            " activation_2 (Activation)   (None, 128)               0         \n",
            "                                                                 \n",
            " dense_1 (Dense)             (None, 128)               16512     \n",
            "                                                                 \n",
            " activation_3 (Activation)   (None, 128)               0         \n",
            "                                                                 \n",
            " dense_2 (Dense)             (None, 128)               16512     \n",
            "                                                                 \n",
            " activation_4 (Activation)   (None, 128)               0         \n",
            "                                                                 \n",
            " dense_3 (Dense)             (None, 1)                 129       \n",
            "                                                                 \n",
            " activation_5 (Activation)   (None, 1)                 0         \n",
            "                                                                 \n",
            "=================================================================\n",
            "Total params: 33921 (132.50 KB)\n",
            "Trainable params: 33921 (132.50 KB)\n",
            "Non-trainable params: 0 (0.00 Byte)\n",
            "_________________________________________________________________\n"
          ]
        }
      ],
      "source": [
        "model.summary()"
      ]
    },
    {
      "cell_type": "code",
      "execution_count": null,
      "metadata": {
        "colab": {
          "background_save": true,
          "base_uri": "https://localhost:8080/"
        },
        "id": "KqOs4gf3Tawk",
        "outputId": "1d4bccfe-54d9-47b9-91e4-2a5d5eb3ceae"
      },
      "outputs": [
        {
          "output_type": "stream",
          "name": "stdout",
          "text": [
            "Epoch 1/15\n",
            "3444/3444 [==============================] - 14s 4ms/step - loss: 7.6664e-04\n",
            "Epoch 2/15\n",
            "3444/3444 [==============================] - 12s 4ms/step - loss: nan\n",
            "Epoch 3/15\n",
            "3444/3444 [==============================] - 12s 4ms/step - loss: nan\n",
            "Epoch 4/15\n",
            "3444/3444 [==============================] - 14s 4ms/step - loss: nan\n",
            "Epoch 5/15\n",
            "3444/3444 [==============================] - 13s 4ms/step - loss: nan\n",
            "Epoch 6/15\n",
            "3444/3444 [==============================] - 11s 3ms/step - loss: nan\n",
            "Epoch 7/15\n",
            "3444/3444 [==============================] - 12s 4ms/step - loss: nan\n",
            "Epoch 8/15\n",
            "1686/3444 [=============>................] - ETA: 6s - loss: nan"
          ]
        }
      ],
      "source": [
        "model.fit(X_train, y_train, epochs = 15, batch_size = 64)"
      ]
    },
    {
      "cell_type": "code",
      "execution_count": null,
      "metadata": {
        "colab": {
          "background_save": true
        },
        "id": "K_7jx6WmTpNE"
      },
      "outputs": [],
      "source": [
        "predictions = model.predict(X_test)"
      ]
    },
    {
      "cell_type": "code",
      "execution_count": null,
      "metadata": {
        "colab": {
          "background_save": true
        },
        "id": "be48GWvSeO21"
      },
      "outputs": [],
      "source": [
        "predictions"
      ]
    },
    {
      "cell_type": "code",
      "execution_count": null,
      "metadata": {
        "colab": {
          "background_save": true
        },
        "id": "Rjp_mNDNTvYk"
      },
      "outputs": [],
      "source": [
        "#out sample(20)\n",
        "plt.figure(figsize = (15,10))\n",
        "plt.scatter((y_test+0.5)*10, (predictions+0.5)*10)\n",
        "plt.axis((0, 10, 0, 10))\n",
        "plt.xlabel(\"Actual Price\")\n",
        "plt.ylabel(\"Predicted Price\")\n",
        "plt.plot([0,10], [0,10], 'r')\n",
        "plt.grid(True)"
      ]
    },
    {
      "cell_type": "code",
      "execution_count": null,
      "metadata": {
        "colab": {
          "background_save": true
        },
        "id": "kXw5g8pM0fq-"
      },
      "outputs": [],
      "source": [
        "InSamplePredictions = model.predict(X_train)"
      ]
    },
    {
      "cell_type": "code",
      "execution_count": null,
      "metadata": {
        "colab": {
          "background_save": true
        },
        "id": "tMWErt280qy-"
      },
      "outputs": [],
      "source": [
        "#in sample (80)\n",
        "plt.figure(figsize = (15,10))\n",
        "plt.scatter((y_train+0.5)*10, (InSamplePredictions+0.5)*10)\n",
        "plt.axis((0, 10, 0, 10))\n",
        "plt.xlabel(\"Actual Price\")\n",
        "plt.ylabel(\"Predicted Price\")\n",
        "plt.plot([0,10], [0,10], 'r')\n",
        "plt.grid(True)"
      ]
    },
    {
      "cell_type": "markdown",
      "metadata": {
        "id": "cHxL1fEm0flG"
      },
      "source": []
    }
  ],
  "metadata": {
    "colab": {
      "provenance": [],
      "include_colab_link": true
    },
    "kernelspec": {
      "display_name": "Python 3",
      "name": "python3"
    },
    "language_info": {
      "name": "python"
    }
  },
  "nbformat": 4,
  "nbformat_minor": 0
}